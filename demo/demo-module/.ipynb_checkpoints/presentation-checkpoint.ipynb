{
 "cells": [
  {
   "cell_type": "markdown",
   "metadata": {
    "slideshow": {
     "slide_type": "slide"
    }
   },
   "source": [
    "# Interactive Engineering Problems with Python\n",
    "\n",
    "\n",
    "\n",
    "\n",
    "\n",
    "#### Steve Mackay, James Mackay"
   ]
  },
  {
   "cell_type": "markdown",
   "metadata": {
    "slideshow": {
     "slide_type": "slide"
    }
   },
   "source": [
    "## Outline\n",
    "\n",
    "- Prerequisites\n",
    "- Problem 1\n",
    "- Problem 2\n",
    "- Problem 3\n",
    "- Problem 4"
   ]
  },
  {
   "cell_type": "markdown",
   "metadata": {
    "slideshow": {
     "slide_type": "subslide"
    }
   },
   "source": [
    "## Prerequisites\n",
    "\n",
    "Lets import Python 3 modules we need for interactive problem solving"
   ]
  },
  {
   "cell_type": "code",
   "execution_count": 1,
   "metadata": {},
   "outputs": [],
   "source": [
    "from __future__ import print_function\n",
    "from ipywidgets import interact, interactive, fixed, interact_manual\n",
    "import ipywidgets as widgets\n",
    "import math\n",
    "import matplotlib.pyplot as plt\n",
    "import numpy as np"
   ]
  },
  {
   "cell_type": "markdown",
   "metadata": {
    "slideshow": {
     "slide_type": "slide"
    }
   },
   "source": [
    "# Problem 1"
   ]
  },
  {
   "cell_type": "markdown",
   "metadata": {
    "slideshow": {
     "slide_type": "subslide"
    }
   },
   "source": [
    "## Problem 1\n",
    "\n",
    "A vehicle weighing 2000 N is to be lifted with a Hydraulic jack shown on the right. The diameter of larger piston is 1000mm and of the smaller piston is 100mm. Determine the force (N) required on smaller piston to lift the vehicle on the larger piston."
   ]
  },
  {
   "cell_type": "markdown",
   "metadata": {
    "slideshow": {
     "slide_type": "subslide"
    }
   },
   "source": [
    "## Problem 1: Solution\n",
    "\n",
    "$$ Given: F_{2}=2000N, d_{1}=100mm, d_{2}=1000mm$$\n",
    "$$ Find: F_{1}$$\n",
    "$$ Solution: $$\n",
    "$$ P_{1} = P_{2} $$                \n",
    "$$ \\dfrac{F_{1}}{A_{1}} = \\dfrac{F_{2}}{A_{2}} $$\n",
    "$$ F_{1} = F_{2}\\dfrac{A_{1}}{A_{2}} $$ \n",
    "           "
   ]
  },
  {
   "cell_type": "markdown",
   "metadata": {
    "slideshow": {
     "slide_type": "subslide"
    }
   },
   "source": [
    "## Problem 1: Solution"
   ]
  },
  {
   "cell_type": "code",
   "execution_count": 2,
   "metadata": {
    "slideshow": {
     "slide_type": "-"
    }
   },
   "outputs": [],
   "source": [
    "# define function for solution\n",
    "def calc_piston_force(force_2, diameter_1, diameter_2):   \n",
    "    area1 = math.pi*(diameter_1**2)/4\n",
    "    area2 = math.pi*(diameter_2**2)/4\n",
    "    force_1 = force_2*(area1/area2)\n",
    "    \n",
    "    return \"Force needed for smaller piston to lift vehicle: \"+ str(force_1) + \"N\""
   ]
  },
  {
   "cell_type": "markdown",
   "metadata": {
    "slideshow": {
     "slide_type": "subslide"
    }
   },
   "source": [
    "## Problem 1: Solution"
   ]
  },
  {
   "cell_type": "code",
   "execution_count": 3,
   "metadata": {
    "slideshow": {
     "slide_type": "-"
    }
   },
   "outputs": [
    {
     "data": {
      "application/vnd.jupyter.widget-view+json": {
       "model_id": "ae8da6711c8c45d4af6a1d6034cbc86b",
       "version_major": 2,
       "version_minor": 0
      },
      "text/plain": [
       "interactive(children=(IntSlider(value=2000, description='force_2', max=10000, step=10), IntSlider(value=100, d…"
      ]
     },
     "metadata": {},
     "output_type": "display_data"
    },
    {
     "data": {
      "text/plain": [
       "<function __main__.calc_piston_force(force_2, diameter_1, diameter_2)>"
      ]
     },
     "execution_count": 3,
     "metadata": {},
     "output_type": "execute_result"
    }
   ],
   "source": [
    "# make interactive widget that utilises function\n",
    "interact(calc_piston_force, \n",
    "         force_2 = widgets.IntSlider(min=0, max=10000, step=10, value=2000),\n",
    "         diameter_1 = widgets.IntSlider(min=10, max=500, step=10, value=100),\n",
    "         diameter_2 = widgets.IntSlider(min=10, max=5000, step=10, value=1000))"
   ]
  },
  {
   "cell_type": "markdown",
   "metadata": {
    "slideshow": {
     "slide_type": "slide"
    }
   },
   "source": [
    "# Problem 2"
   ]
  },
  {
   "cell_type": "markdown",
   "metadata": {
    "slideshow": {
     "slide_type": "subslide"
    }
   },
   "source": [
    "## Problem 2\n",
    "\n",
    "A 3V torch with a 10 ohm bulb is switched on for 1 minute.\n",
    "\n",
    "1. What is the power of the torch\n",
    "2. How much energy has been used in the minute?"
   ]
  },
  {
   "cell_type": "markdown",
   "metadata": {
    "slideshow": {
     "slide_type": "subslide"
    }
   },
   "source": [
    "## Problem 2: Solution\n",
    "\n",
    "<center>Given:</center>\n",
    "$$ V = 3v, R=10\\Omega $$\n",
    "<center>Find:</center>\n",
    "$$ P = ?, E = ? $$\n",
    "<center>Solution:</center>\n",
    "$$ P = \\dfrac{V^2}{R}$$\n",
    "$$ E = P \\cdot T $$\n"
   ]
  },
  {
   "cell_type": "code",
   "execution_count": 4,
   "metadata": {
    "slideshow": {
     "slide_type": "subslide"
    }
   },
   "outputs": [],
   "source": [
    "def calc_power_energy(voltage, resistance, time):\n",
    "    power = (voltage**2)/resistance\n",
    "    energy = power*time\n",
    "    answer = \"Torch has \"+ str(power) + \"W (J/s) of power and consumes \" + str(energy) + \" Joules of energy.\" \n",
    "    return answer\n"
   ]
  },
  {
   "cell_type": "code",
   "execution_count": 5,
   "metadata": {
    "slideshow": {
     "slide_type": "subslide"
    }
   },
   "outputs": [
    {
     "data": {
      "application/vnd.jupyter.widget-view+json": {
       "model_id": "cc44b56e14d74f4cb61f5d61d8b2c89b",
       "version_major": 2,
       "version_minor": 0
      },
      "text/plain": [
       "interactive(children=(IntSlider(value=3, description='voltage', max=12), IntSlider(value=10, description='resi…"
      ]
     },
     "metadata": {},
     "output_type": "display_data"
    },
    {
     "data": {
      "text/plain": [
       "<function __main__.calc_power_energy(voltage, resistance, time)>"
      ]
     },
     "execution_count": 5,
     "metadata": {},
     "output_type": "execute_result"
    }
   ],
   "source": [
    "# make interactive widget that utilises function\n",
    "interact(calc_power_energy, \n",
    "         voltage = widgets.IntSlider(min=0, max=12, step=1, value=3),\n",
    "         resistance = widgets.IntSlider(min=10, max=50, step=10, value=10),\n",
    "         time = widgets.IntSlider(min=0, max=100, step=5, value=60))"
   ]
  },
  {
   "cell_type": "markdown",
   "metadata": {
    "slideshow": {
     "slide_type": "slide"
    }
   },
   "source": [
    "# Problem 3"
   ]
  },
  {
   "cell_type": "markdown",
   "metadata": {
    "slideshow": {
     "slide_type": "subslide"
    }
   },
   "source": [
    "## Problem 3\n",
    "A lamp has a label \"200V 100W\"\n",
    "1. What is the resistance of the lamp?\n",
    "2. What is the current passing through the lamp?\n"
   ]
  },
  {
   "cell_type": "markdown",
   "metadata": {
    "slideshow": {
     "slide_type": "subslide"
    }
   },
   "source": [
    "## Problem 3\n",
    "<center>Given:</center>\n",
    "$$ V=200V$$ \n",
    "$$P=100W $$\n",
    "<center>Find:</center>\n",
    "$$ R=?, I=? $$\n",
    "<center>Solution:</center>\n",
    "$$ P = \\dfrac{V^2}{R}  \\therefore  R = \\dfrac{V^2}{P} $$\n",
    "$$ P = V \\cdot I \\therefore I=\\dfrac{P}{V} $$"
   ]
  },
  {
   "cell_type": "code",
   "execution_count": 6,
   "metadata": {
    "slideshow": {
     "slide_type": "subslide"
    }
   },
   "outputs": [],
   "source": [
    "def calc_resistance_current(voltage, power):\n",
    "    resistance = (voltage**2)/power\n",
    "    current = power/voltage\n",
    "    answer = \"The lamp has \" + str(resistance) + \" ohms of resistance a current of \" + str(current) + \" ampheres.\" \n",
    "    return answer"
   ]
  },
  {
   "cell_type": "code",
   "execution_count": 7,
   "metadata": {
    "slideshow": {
     "slide_type": "subslide"
    }
   },
   "outputs": [
    {
     "data": {
      "application/vnd.jupyter.widget-view+json": {
       "model_id": "a72a6ddfaf08437eb31149b16afcfd12",
       "version_major": 2,
       "version_minor": 0
      },
      "text/plain": [
       "interactive(children=(IntSlider(value=200, description='voltage', max=1000, min=100, step=100), IntSlider(valu…"
      ]
     },
     "metadata": {},
     "output_type": "display_data"
    },
    {
     "data": {
      "text/plain": [
       "<function __main__.calc_resistance_current(voltage, power)>"
      ]
     },
     "execution_count": 7,
     "metadata": {},
     "output_type": "execute_result"
    }
   ],
   "source": [
    "# make interactive widget that utilises function\n",
    "interact(calc_resistance_current, \n",
    "         voltage = widgets.IntSlider(min=100, max=1000, step=100, value=200),\n",
    "         power = widgets.IntSlider(min=100, max=1000, step=10, value=100))"
   ]
  },
  {
   "cell_type": "markdown",
   "metadata": {
    "slideshow": {
     "slide_type": "slide"
    }
   },
   "source": [
    "# Problem 4"
   ]
  },
  {
   "cell_type": "markdown",
   "metadata": {
    "slideshow": {
     "slide_type": "subslide"
    }
   },
   "source": [
    "## Problem 4\n",
    "\n",
    "An object of mass 3 kg is dropped from a height of 12m. Using the conservation of energy principle, calculate the velocity with which it strikes the ground. "
   ]
  },
  {
   "cell_type": "markdown",
   "metadata": {
    "slideshow": {
     "slide_type": "subslide"
    }
   },
   "source": [
    "## Problem 4: Solution\n",
    "<center>Given:</center>\n",
    "$$ m=3kg, h=12m $$\n",
    "$$ Find: v $$"
   ]
  },
  {
   "cell_type": "markdown",
   "metadata": {
    "slideshow": {
     "slide_type": "subslide"
    }
   },
   "source": [
    "## Problem 4: Solution\n",
    "<center>Solution:</center>\n",
    "$$ PE = mgh$$\n",
    "$$ KE = \\dfrac{1}{2}mv^2 $$\n",
    "$$ PE = KE $$\n",
    "$$ \\therefore PE = KE $$\n",
    "\n",
    "$$ \\therefore mgh = \\dfrac{1}{2}mv^2 $$\n",
    "\n",
    "$$ \\therefore v = \\sqrt{\\dfrac{2}{m}mgh} $$"
   ]
  },
  {
   "cell_type": "code",
   "execution_count": 8,
   "metadata": {
    "slideshow": {
     "slide_type": "subslide"
    }
   },
   "outputs": [],
   "source": [
    "def calc_velocity(mass, height):\n",
    "    gravity = 9.81\n",
    "    potential_energy = mass * gravity * height\n",
    "    velocity = math.sqrt((2/mass) * potential_energy)\n",
    "    answer = 'Velocity is ' + str(round(velocity,2)) + 'm/s'\n",
    "    return answer"
   ]
  },
  {
   "cell_type": "code",
   "execution_count": 9,
   "metadata": {
    "slideshow": {
     "slide_type": "subslide"
    }
   },
   "outputs": [
    {
     "data": {
      "application/vnd.jupyter.widget-view+json": {
       "model_id": "705f61fb9d034606a82779d07e21cafb",
       "version_major": 2,
       "version_minor": 0
      },
      "text/plain": [
       "interactive(children=(IntSlider(value=3, description='mass', max=10, min=1), IntSlider(value=12, description='…"
      ]
     },
     "metadata": {},
     "output_type": "display_data"
    },
    {
     "data": {
      "text/plain": [
       "<function __main__.calc_velocity(mass, height)>"
      ]
     },
     "execution_count": 9,
     "metadata": {},
     "output_type": "execute_result"
    }
   ],
   "source": [
    "# make interactive widget that utilises function\n",
    "interact(calc_velocity, \n",
    "         mass = widgets.IntSlider(min=1, max=10, step=1, value=3),\n",
    "         height = widgets.IntSlider(min=0, max=20, step=1, value=12))"
   ]
  },
  {
   "cell_type": "markdown",
   "metadata": {
    "slideshow": {
     "slide_type": "slide"
    }
   },
   "source": [
    "# Problem 5"
   ]
  },
  {
   "cell_type": "markdown",
   "metadata": {
    "slideshow": {
     "slide_type": "subslide"
    }
   },
   "source": [
    "## Problem 5\n",
    "\n",
    "A 3D Printer has just finished a part and its nozzle has started cooling from an initial temperature of 200<sup>o</sup>C. Given that the ambient temperature of the room is 23<sup>o</sup>C, and the nozzle has a cooling constant (_k_) of 0.0058, approximate the temperature that the nozzle after 60 seconds with a time step of 1 second using Newton's cooling law and Euler's Method."
   ]
  },
  {
   "cell_type": "markdown",
   "metadata": {
    "slideshow": {
     "slide_type": "subslide"
    }
   },
   "source": [
    "## Problem 5: Solution\n",
    "- Given:\n",
    "    $$ T_0=200^oC, T_s=23^oC, k=0.0058, t=60s, h = 1s, T_{60}=?$$\n",
    "\n",
    "\n",
    "- Euler's Method:\n",
    "    $$  T_{t+1} = T_t + hf(t_n,T_t)$$\n",
    "\n",
    "\n",
    "- Newton's Cooling Law:\n",
    "    $$  f(t_n,T_t) = k(T_t - T_s)$$"
   ]
  },
  {
   "cell_type": "code",
   "execution_count": 10,
   "metadata": {
    "slideshow": {
     "slide_type": "subslide"
    }
   },
   "outputs": [],
   "source": [
    "def newtons_cooling(k, temp_t, temp_s):\n",
    "    change_rate = -k*(temp_t - temp_s)\n",
    "    return change_rate\n",
    "\n",
    "def eulers(h, t, k, temp_t, temp_s):\n",
    "    new_temp = temp_t + (h*newtons_cooling(k,temp_t,temp_s))\n",
    "    return new_temp\n",
    "\n",
    "def temp_at_t(h,t_end,temp_t,temp_s):\n",
    "    current_temp = temp_t\n",
    "    x = []\n",
    "    y = []\n",
    "    k = 0.0058\n",
    "    \n",
    "    for t in range(1,t_end+1,h):\n",
    "        current_temp = eulers(h,t,k,current_temp,temp_s)\n",
    "        x.append(t)\n",
    "        y.append(current_temp)\n",
    "        \n",
    "    plt.plot(x,y)\n",
    "    plt.ylabel(\"Temperature (C)\")\n",
    "    plt.xlabel(\"Time (s)\")\n",
    "    plt.show()\n",
    "    return \"The final temp is \"+str(current_temp)\n"
   ]
  },
  {
   "cell_type": "code",
   "execution_count": 16,
   "metadata": {
    "slideshow": {
     "slide_type": "subslide"
    }
   },
   "outputs": [
    {
     "data": {
      "application/vnd.jupyter.widget-view+json": {
       "model_id": "794bd7f36cae4a86a5257766977b04c1",
       "version_major": 2,
       "version_minor": 0
      },
      "text/plain": [
       "interactive(children=(IntSlider(value=1, description='h', max=10, min=1, step=0), IntSlider(value=60, descript…"
      ]
     },
     "metadata": {},
     "output_type": "display_data"
    },
    {
     "data": {
      "text/plain": [
       "<function __main__.temp_at_t(h, t_end, temp_t, temp_s)>"
      ]
     },
     "execution_count": 16,
     "metadata": {},
     "output_type": "execute_result"
    }
   ],
   "source": [
    "# make interactive widget that utilises function\n",
    "interact(temp_at_t, \n",
    "    h = widgets.IntSlider(min=1, max=10, step=0.2, value=1),\n",
    "    t_end = widgets.IntSlider(min=10, max=1000, step=10, value=60),\n",
    "    temp_t = widgets.IntSlider(min=10, max=230, step=10, value=200),\n",
    "    temp_s = widgets.IntSlider(min=10, max=40 , step=1, value=23)\n",
    ")"
   ]
  },
  {
   "cell_type": "markdown",
   "metadata": {
    "slideshow": {
     "slide_type": "slide"
    }
   },
   "source": [
    "# Problem 6"
   ]
  },
  {
   "cell_type": "markdown",
   "metadata": {
    "slideshow": {
     "slide_type": "subslide"
    }
   },
   "source": [
    "## Problem 6\n",
    "\n",
    "Would a tank of radius = 5 m, and height = 10 m be overfilled if the influx of water is 15 m$^3$/min within two hours? "
   ]
  },
  {
   "cell_type": "markdown",
   "metadata": {
    "slideshow": {
     "slide_type": "subslide"
    }
   },
   "source": [
    "## Problem 6: Solution\n",
    "\n",
    "- Given:\n",
    "    $$ radius=5m, height=10m, Q = 15 \\dfrac{m^3}{min}$$\n",
    "- Volume of Tank:\n",
    "    $$ V_t = \\pi r^2h$$\n",
    "- Volume of accumulated fluid over time _t_:\n",
    "    $$  V=Qt$$\n",
    "- Condition:\n",
    "    $$ V <= V_t $$"
   ]
  },
  {
   "cell_type": "code",
   "execution_count": 12,
   "metadata": {
    "slideshow": {
     "slide_type": "subslide"
    }
   },
   "outputs": [],
   "source": [
    "def is_overfilled(radius, height, flow_rate):\n",
    "    volume_tank = math.pi*radius**2*height\n",
    "    volume_at_t = flow_rate*120\n",
    "    \n",
    "    plt.plot(np.arange(0,120),flow_rate*np.arange(0,120))\n",
    "    plt.plot([0,120],[volume_tank,volume_tank])\n",
    "    plt.ylabel(\"Volume (m^3/min)\")\n",
    "    plt.xlabel(\"Time (min)\")\n",
    "    plt.legend(('Volume of water','Volume of tank'),fontsize=16);\n",
    "    plt.show()\n",
    "    \n",
    "    if volume_at_t <= volume_tank:\n",
    "        return \"Tank will not overflow\"\n",
    "    else:\n",
    "        return \"Tank will overflow by \"+str(round(volume_at_t - volume_tank,2)) + \"m^3\""
   ]
  },
  {
   "cell_type": "code",
   "execution_count": 13,
   "metadata": {
    "slideshow": {
     "slide_type": "subslide"
    }
   },
   "outputs": [
    {
     "data": {
      "application/vnd.jupyter.widget-view+json": {
       "model_id": "3724e63273724581af4915ef90a1587d",
       "version_major": 2,
       "version_minor": 0
      },
      "text/plain": [
       "interactive(children=(IntSlider(value=5, description='radius', max=10, min=1), IntSlider(value=10, description…"
      ]
     },
     "metadata": {},
     "output_type": "display_data"
    },
    {
     "data": {
      "text/plain": [
       "<function __main__.is_overfilled(radius, height, flow_rate)>"
      ]
     },
     "execution_count": 13,
     "metadata": {},
     "output_type": "execute_result"
    }
   ],
   "source": [
    "# make interactive widget that utilises function\n",
    "interact(is_overfilled, \n",
    "    radius= widgets.IntSlider(min=1, max=10, step=1, value=5),\n",
    "    height = widgets.IntSlider(min=5, max=30, step=1, value=10),\n",
    "    flow_rate = widgets.IntSlider(min=1, max=30, step=1, value=15)\n",
    ")"
   ]
  },
  {
   "cell_type": "code",
   "execution_count": null,
   "metadata": {},
   "outputs": [],
   "source": []
  }
 ],
 "metadata": {
  "celltoolbar": "Slideshow",
  "kernelspec": {
   "display_name": "Python 3",
   "language": "python",
   "name": "python3"
  },
  "language_info": {
   "codemirror_mode": {
    "name": "ipython",
    "version": 3
   },
   "file_extension": ".py",
   "mimetype": "text/x-python",
   "name": "python",
   "nbconvert_exporter": "python",
   "pygments_lexer": "ipython3",
   "version": "3.7.2"
  },
  "rise": {
   "autolaunch": true,
   "enable_chalkboard": true,
   "footer": "Commands:<br/>[Space] - Go to next slide<br/>[Shift + Space] - Go to previous slide<br/>[Shift + Enter] - Execute cell",
   "scroll": true
  }
 },
 "nbformat": 4,
 "nbformat_minor": 2
}
