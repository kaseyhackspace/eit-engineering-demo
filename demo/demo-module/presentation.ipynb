{
 "cells": [
  {
   "cell_type": "markdown",
   "metadata": {
    "slideshow": {
     "slide_type": "slide"
    }
   },
   "source": [
    "# Interactive Engineering Problems with Python\n",
    "\n",
    "\n",
    "\n",
    "\n",
    "\n",
    "#### Steve Mackay, James Mackay"
   ]
  },
  {
   "cell_type": "markdown",
   "metadata": {
    "slideshow": {
     "slide_type": "slide"
    }
   },
   "source": [
    "## Outline\n",
    "\n",
    "- Prerequisites\n",
    "- Problem 1\n",
    "- Problem 2\n",
    "- Problem 3\n",
    "- Problem 4"
   ]
  },
  {
   "cell_type": "markdown",
   "metadata": {
    "slideshow": {
     "slide_type": "subslide"
    }
   },
   "source": [
    "## Prerequisites\n",
    "\n",
    "Lets import Python 3 modules we need for interactive problem solving"
   ]
  },
  {
   "cell_type": "code",
   "execution_count": 26,
   "metadata": {},
   "outputs": [],
   "source": [
    "from __future__ import print_function\n",
    "from ipywidgets import interact, interactive, fixed, interact_manual\n",
    "import ipywidgets as widgets\n",
    "import math\n"
   ]
  },
  {
   "cell_type": "markdown",
   "metadata": {
    "slideshow": {
     "slide_type": "slide"
    }
   },
   "source": [
    "# Problem 1"
   ]
  },
  {
   "cell_type": "markdown",
   "metadata": {
    "slideshow": {
     "slide_type": "subslide"
    }
   },
   "source": [
    "## Problem 1\n",
    "\n",
    "A vehicle weighing 2000 N is to be lifted with a Hydraulic jack shown on the right. The diameter of larger piston is 1000mm and of the smaller piston is 100mm. Determine the force (N) required on smaller piston to lift the vehicle on the larger piston."
   ]
  },
  {
   "cell_type": "markdown",
   "metadata": {
    "slideshow": {
     "slide_type": "subslide"
    }
   },
   "source": [
    "## Problem 1: Solution\n",
    "\n",
    "$$ Given: F_{2}=2000N, d_{1}=100mm, d_{2}=1000mm$$\n",
    "$$ Find: F_{1}$$\n",
    "$$ Solution: $$\n",
    "$$ P_{1} = P_{2} $$                \n",
    "$$ \\dfrac{F_{1}}{A_{1}} = \\dfrac{F_{2}}{A_{2}} $$\n",
    "$$ F_{1} = F_{2}\\dfrac{A_{1}}{A_{2}} $$ \n",
    "           "
   ]
  },
  {
   "cell_type": "markdown",
   "metadata": {
    "slideshow": {
     "slide_type": "subslide"
    }
   },
   "source": [
    "## Problem 1: Solution"
   ]
  },
  {
   "cell_type": "code",
   "execution_count": 79,
   "metadata": {
    "slideshow": {
     "slide_type": "-"
    }
   },
   "outputs": [],
   "source": [
    "# define function for solution\n",
    "def calc_piston_force(force_2, diameter_1, diameter_2):   \n",
    "    area1 = math.pi*(diameter_1**2)/4\n",
    "    area2 = math.pi*(diameter_2**2)/4\n",
    "    force_1 = force_2*(area1/area2)\n",
    "    \n",
    "    return \"Force needed for smaller piston to lift vehicle: \"+ str(force_1) + \"N\""
   ]
  },
  {
   "cell_type": "markdown",
   "metadata": {
    "slideshow": {
     "slide_type": "subslide"
    }
   },
   "source": [
    "## Problem 1: Solution"
   ]
  },
  {
   "cell_type": "code",
   "execution_count": 80,
   "metadata": {
    "slideshow": {
     "slide_type": "-"
    }
   },
   "outputs": [
    {
     "data": {
      "application/vnd.jupyter.widget-view+json": {
       "model_id": "d58da2b47891473ebd074591458c5714",
       "version_major": 2,
       "version_minor": 0
      },
      "text/plain": [
       "interactive(children=(IntSlider(value=2000, description='force_2', max=10000, step=10), IntSlider(value=100, d…"
      ]
     },
     "metadata": {},
     "output_type": "display_data"
    },
    {
     "data": {
      "text/plain": [
       "<function __main__.calc_piston_force(force_2, diameter_1, diameter_2)>"
      ]
     },
     "execution_count": 80,
     "metadata": {},
     "output_type": "execute_result"
    }
   ],
   "source": [
    "# make interactive widget that utilises function\n",
    "interact(calc_piston_force, \n",
    "         force_2 = widgets.IntSlider(min=0, max=10000, step=10, value=2000),\n",
    "         diameter_1 = widgets.IntSlider(min=10, max=500, step=10, value=100),\n",
    "         diameter_2 = widgets.IntSlider(min=10, max=5000, step=10, value=1000))"
   ]
  },
  {
   "cell_type": "markdown",
   "metadata": {
    "slideshow": {
     "slide_type": "slide"
    }
   },
   "source": [
    "# Problem 2"
   ]
  },
  {
   "cell_type": "markdown",
   "metadata": {
    "slideshow": {
     "slide_type": "subslide"
    }
   },
   "source": [
    "## Problem 2\n",
    "\n",
    "A 3V torch with a 10 ohm bulb is switched on for 1 minute.\n",
    "\n",
    "1. What is the power of the torch\n",
    "2. How much energy has been used in the minute?"
   ]
  },
  {
   "cell_type": "markdown",
   "metadata": {
    "slideshow": {
     "slide_type": "subslide"
    }
   },
   "source": [
    "## Problem 2: Solution\n",
    "\n",
    "<center>Given:</center>\n",
    "$$ V = 3v, R=10\\Omega $$\n",
    "<center>Find:</center>\n",
    "$$ P = ?, E = ? $$\n",
    "<center>Solution:</center>\n",
    "$$ P = \\dfrac{V^2}{R}$$\n",
    "$$ E = P \\cdot T $$\n"
   ]
  },
  {
   "cell_type": "code",
   "execution_count": 81,
   "metadata": {
    "slideshow": {
     "slide_type": "subslide"
    }
   },
   "outputs": [],
   "source": [
    "def calc_power_energy(voltage, resistance, time):\n",
    "    power = (voltage**2)/resistance\n",
    "    energy = power*time\n",
    "    answer = \"Torch has \"+ str(power) + \"W (J/s) of power and consumes \" + str(energy) + \" Joules of energy.\" \n",
    "    return answer\n"
   ]
  },
  {
   "cell_type": "code",
   "execution_count": 82,
   "metadata": {
    "slideshow": {
     "slide_type": "subslide"
    }
   },
   "outputs": [
    {
     "data": {
      "application/vnd.jupyter.widget-view+json": {
       "model_id": "82ffe6a381d74b948d18aad12167c91c",
       "version_major": 2,
       "version_minor": 0
      },
      "text/plain": [
       "interactive(children=(IntSlider(value=3, description='voltage', max=12), IntSlider(value=10, description='resi…"
      ]
     },
     "metadata": {},
     "output_type": "display_data"
    },
    {
     "data": {
      "text/plain": [
       "<function __main__.calc_power_energy(voltage, resistance, time)>"
      ]
     },
     "execution_count": 82,
     "metadata": {},
     "output_type": "execute_result"
    }
   ],
   "source": [
    "# make interactive widget that utilises function\n",
    "interact(calc_power_energy, \n",
    "         voltage = widgets.IntSlider(min=0, max=12, step=1, value=3),\n",
    "         resistance = widgets.IntSlider(min=10, max=50, step=10, value=10),\n",
    "         time = widgets.IntSlider(min=0, max=100, step=5, value=60))"
   ]
  },
  {
   "cell_type": "markdown",
   "metadata": {
    "slideshow": {
     "slide_type": "slide"
    }
   },
   "source": [
    "# Problem 3"
   ]
  },
  {
   "cell_type": "markdown",
   "metadata": {
    "slideshow": {
     "slide_type": "subslide"
    }
   },
   "source": [
    "## Problem 3\n",
    "A lamp has a label \"200V 100W\"\n",
    "1. What is the resistance of the lamp?\n",
    "2. What is the current passing through the lamp?\n"
   ]
  },
  {
   "cell_type": "markdown",
   "metadata": {
    "slideshow": {
     "slide_type": "subslide"
    }
   },
   "source": [
    "## Problem 3\n",
    "<center>Given:</center>\n",
    "$$ V=200V$$ \n",
    "$$P=100W $$\n",
    "<center>Find:</center>\n",
    "$$ R=?, I=? $$\n",
    "<center>Solution:</center>\n",
    "$$ P = \\dfrac{V^2}{R}  \\therefore  R = \\dfrac{V^2}{P} $$\n",
    "$$ P = V \\cdot I \\therefore I=\\dfrac{P}{V} $$"
   ]
  },
  {
   "cell_type": "code",
   "execution_count": 83,
   "metadata": {
    "slideshow": {
     "slide_type": "subslide"
    }
   },
   "outputs": [],
   "source": [
    "def calc_resistance_current(voltage, power):\n",
    "    resistance = (voltage**2)/power\n",
    "    current = power/voltage\n",
    "    answer = \"The lamp has \" + str(resistance) + \" ohms of resistance a current of \" + str(current) + \" ampheres.\" \n",
    "    return answer"
   ]
  },
  {
   "cell_type": "code",
   "execution_count": 84,
   "metadata": {
    "slideshow": {
     "slide_type": "subslide"
    }
   },
   "outputs": [
    {
     "data": {
      "application/vnd.jupyter.widget-view+json": {
       "model_id": "321d102b2d77438189c6405c38ea44eb",
       "version_major": 2,
       "version_minor": 0
      },
      "text/plain": [
       "interactive(children=(IntSlider(value=200, description='voltage', max=1000, min=100, step=100), IntSlider(valu…"
      ]
     },
     "metadata": {},
     "output_type": "display_data"
    },
    {
     "data": {
      "text/plain": [
       "<function __main__.calc_resistance_current(voltage, power)>"
      ]
     },
     "execution_count": 84,
     "metadata": {},
     "output_type": "execute_result"
    }
   ],
   "source": [
    "# make interactive widget that utilises function\n",
    "interact(calc_resistance_current, \n",
    "         voltage = widgets.IntSlider(min=100, max=1000, step=100, value=200),\n",
    "         power = widgets.IntSlider(min=100, max=1000, step=10, value=100))"
   ]
  },
  {
   "cell_type": "markdown",
   "metadata": {
    "slideshow": {
     "slide_type": "slide"
    }
   },
   "source": [
    "# Problem 4"
   ]
  },
  {
   "cell_type": "markdown",
   "metadata": {
    "slideshow": {
     "slide_type": "subslide"
    }
   },
   "source": [
    "## Problem 4\n",
    "\n",
    "An object of mass 3 kg is dropped from a height of 12m. Using the conservation of energy principle, calculate the velocity with which it strikes the ground. "
   ]
  },
  {
   "cell_type": "markdown",
   "metadata": {
    "slideshow": {
     "slide_type": "subslide"
    }
   },
   "source": [
    "## Problem 4: Solution\n",
    "<center>Given:</center>\n",
    "$$ m=3kg, h=12m $$\n",
    "$$ Find: v $$"
   ]
  },
  {
   "cell_type": "markdown",
   "metadata": {
    "slideshow": {
     "slide_type": "subslide"
    }
   },
   "source": [
    "## Problem 4: Solution\n",
    "<center>Solution:</center>\n",
    "$$ PE = mgh$$\n",
    "$$ KE = \\dfrac{1}{2}mv^2 $$\n",
    "$$ PE = KE $$\n",
    "$$ \\therefore PE = KE $$\n",
    "\n",
    "$$ \\therefore mgh = \\dfrac{1}{2}mv^2 $$\n",
    "\n",
    "$$ \\therefore v = \\sqrt{\\dfrac{2}{m}mgh} $$"
   ]
  },
  {
   "cell_type": "code",
   "execution_count": 85,
   "metadata": {
    "slideshow": {
     "slide_type": "subslide"
    }
   },
   "outputs": [],
   "source": [
    "def calc_velocity(mass, height):\n",
    "    gravity = 9.81\n",
    "    potential_energy = mass * gravity * height\n",
    "    velocity = math.sqrt((2/mass) * potential_energy)\n",
    "    answer = 'Velocity is ' + str(round(velocity,2)) + 'm/s'\n",
    "    return answer"
   ]
  },
  {
   "cell_type": "code",
   "execution_count": 86,
   "metadata": {
    "slideshow": {
     "slide_type": "subslide"
    }
   },
   "outputs": [
    {
     "data": {
      "application/vnd.jupyter.widget-view+json": {
       "model_id": "d9aeb890a8f347c196ea9bc2dc6a3351",
       "version_major": 2,
       "version_minor": 0
      },
      "text/plain": [
       "interactive(children=(IntSlider(value=3, description='mass', max=10, min=1), IntSlider(value=12, description='…"
      ]
     },
     "metadata": {},
     "output_type": "display_data"
    },
    {
     "data": {
      "text/plain": [
       "<function __main__.calc_velocity(mass, height)>"
      ]
     },
     "execution_count": 86,
     "metadata": {},
     "output_type": "execute_result"
    }
   ],
   "source": [
    "# make interactive widget that utilises function\n",
    "interact(calc_velocity, \n",
    "         mass = widgets.IntSlider(min=1, max=10, step=1, value=3),\n",
    "         height = widgets.IntSlider(min=0, max=20, step=1, value=12))"
   ]
  }
 ],
 "metadata": {
  "celltoolbar": "Slideshow",
  "kernelspec": {
   "display_name": "Python 3",
   "language": "python",
   "name": "python3"
  },
  "language_info": {
   "codemirror_mode": {
    "name": "ipython",
    "version": 3
   },
   "file_extension": ".py",
   "mimetype": "text/x-python",
   "name": "python",
   "nbconvert_exporter": "python",
   "pygments_lexer": "ipython3",
   "version": "3.7.2"
  },
  "rise": {
   "autolaunch": true,
   "enable_chalkboard": true,
   "footer": "Commands:<br/>[Space] - Go to next slide<br/>[Shift + Space] - Go to previous slide<br/>[Shift + Enter] - Execute cell",
   "scroll": true
  }
 },
 "nbformat": 4,
 "nbformat_minor": 2
}
